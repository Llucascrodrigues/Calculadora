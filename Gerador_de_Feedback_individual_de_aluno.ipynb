{
  "nbformat": 4,
  "nbformat_minor": 0,
  "metadata": {
    "colab": {
      "provenance": [],
      "authorship_tag": "ABX9TyN0nGt9PHYOY+qZmkznJkFC",
      "include_colab_link": true
    },
    "kernelspec": {
      "name": "python3",
      "display_name": "Python 3"
    },
    "language_info": {
      "name": "python"
    }
  },
  "cells": [
    {
      "cell_type": "markdown",
      "metadata": {
        "id": "view-in-github",
        "colab_type": "text"
      },
      "source": [
        "<a href=\"https://colab.research.google.com/github/Llucascrodrigues/Calculadora/blob/main/Gerador_de_Feedback_individual_de_aluno.ipynb\" target=\"_parent\"><img src=\"https://colab.research.google.com/assets/colab-badge.svg\" alt=\"Open In Colab\"/></a>"
      ]
    },
    {
      "cell_type": "markdown",
      "source": [
        "#(Contrução)Gerador de Feedbacks para alunos"
      ],
      "metadata": {
        "id": "-knKKDp6WyB7"
      }
    },
    {
      "cell_type": "markdown",
      "source": [
        "Gerador de menções finais e feedbacks individuais"
      ],
      "metadata": {
        "id": "OiX7iNzvHUQv"
      }
    },
    {
      "cell_type": "code",
      "execution_count": 1,
      "metadata": {
        "colab": {
          "base_uri": "https://localhost:8080/"
        },
        "id": "j4ielZlnHTPp",
        "outputId": "f28320ec-949c-49aa-91fe-aba3a9f64f44"
      },
      "outputs": [
        {
          "name": "stdout",
          "output_type": "stream",
          "text": [
            "totais de carimbos 100\n",
            "Totais de aulas 100\n",
            "total de atividades dadas 100\n"
          ]
        }
      ],
      "source": [
        "#Parametros de avaliação\n",
        "vistos_totais=int(input(\"totais de carimbos \"))\n",
        "Aulas=int(input(\"Totais de aulas \"))\n",
        "Atividades=int(input(\"total de atividades dadas \"))"
      ]
    },
    {
      "cell_type": "code",
      "source": [
        "#parametros coletador dos alunos\n",
        "carimbos=int(input(\"carimbos \"))\n",
        "participacao=int(input(\"quantidade de pontos de participação \"))\n",
        "entregas=int(input(\"Entregas \"))"
      ],
      "metadata": {
        "colab": {
          "base_uri": "https://localhost:8080/"
        },
        "id": "yT6UKkMcJO8c",
        "outputId": "87b27f75-fa88-4462-c1cf-950a070303a6"
      },
      "execution_count": 15,
      "outputs": [
        {
          "name": "stdout",
          "output_type": "stream",
          "text": [
            "carimbos 100\n",
            "quantidade de pontos de participação 100\n",
            "Entregas 100\n"
          ]
        }
      ]
    },
    {
      "cell_type": "code",
      "source": [
        "#observações que devem ser anotadas em aula\n",
        "conversa=input(\"conversa (muito) (pouco) (não) \")\n",
        "qualidade_entrega=input(\"qualidade da entrega (pessimo)(ruim)(melhorar)(bom)(otimo) \")\n"
      ],
      "metadata": {
        "colab": {
          "base_uri": "https://localhost:8080/"
        },
        "id": "Be3mYHwAKC2X",
        "outputId": "7ef61293-aaa2-4beb-b981-54c1cce94164"
      },
      "execution_count": 3,
      "outputs": [
        {
          "name": "stdout",
          "output_type": "stream",
          "text": [
            "conversa (muito) (pouco) (não) muito\n",
            "qualidade da entrega (pessimo)(ruim)(melhorar)(bom)(otimo) melhorar\n"
          ]
        }
      ]
    },
    {
      "cell_type": "code",
      "source": [
        "porc_visto=(carimbos/vistos_totais)*100\n",
        "porc_entregas=(entregas/Atividades)*100\n",
        "porc_participacao=(participacao/Aulas)*100"
      ],
      "metadata": {
        "id": "rMDFv-lOK6a2"
      },
      "execution_count": 16,
      "outputs": []
    },
    {
      "cell_type": "code",
      "source": [
        "if porc_visto>70 and porc_entregas>70 and porc_participacao>70:\n",
        "  mencao=\"Menção final: D\"\n",
        "elif porc_visto<25 and porc_participacao<25 and porc_entregas<25:\n",
        "  mencao=\"Menção final: ND\"\n",
        "else:\n",
        "  mencao=\"Menção final: ED\"\n",
        "\n",
        "mencao"
      ],
      "metadata": {
        "colab": {
          "base_uri": "https://localhost:8080/",
          "height": 35
        },
        "id": "OIEcqdgqLZtf",
        "outputId": "ab764412-cf42-4400-c419-99d3ffcfadc1"
      },
      "execution_count": 17,
      "outputs": [
        {
          "output_type": "execute_result",
          "data": {
            "text/plain": [
              "'Menção final: D'"
            ],
            "application/vnd.google.colaboratory.intrinsic+json": {
              "type": "string"
            }
          },
          "metadata": {},
          "execution_count": 17
        }
      ]
    },
    {
      "cell_type": "code",
      "source": [
        "'''Quero fazer uma função que me dê um feedback individual do estudante de acordo com os parametros que eu fornecer\n",
        "pretendo adicionar observações extras\n",
        "\n",
        "'''\n",
        "\n",
        "nome=input(\"nome \")\n",
        "\n",
        "print(mencao)\n",
        "if mencao==\"Menção final: D\":\n",
        "    if conversa==\"não\":\n",
        "      print(\"%s teve uma ótima participação e ótimas entregas nesse bimestre se dedicando bastante para aprimorar os saberes e habilidades propostas pela área\"%(nome))\n",
        "    elif conversa==\"pouco\":\n",
        "      print(\"%s teve uma ótima participação e ótimas entregas nesse bimestre mesmo conversando um pouco, o que pode prejudicar o estudante, mas se dedicando bastante para aprimorar os saberes e habilidades propostas pela área\"%(nome))\n",
        "    elif conversa==\"muito\":\n",
        "      print(\"%s teve uma ótima participação e ótimas entregas nesse bimestre, porém tem conversado bastante durante as aulas, prejudicando seu processo de aprendizado, mesmo assim vem se dedicando bastante para aprimorar os saberes e habilidades propostas pela área\"%(nome))\n",
        "elif mencao==\"Menção final: ED\":\n",
        "  ##aqui é interesante complementar com as observações\n",
        "  if conversa==\"não\":\n",
        "    print(\"% se dedicou e está no caminho para se desenvolver no próximo bimestre, recomendamos que busque sanar as dúvidas com os professores e\"%(nome))\n",
        "    if qualidade_entrega==\"otimo\":\n",
        "      print(\" continue fazendo ótimas entregas como já o faz\")\n",
        "    elif qualidade_entrega==\"bom\":\n",
        "      print(\" continue fazendo boas entregas como já o faz\")\n",
        "    elif qualidade_entrega==\"melhorar\":\n",
        "      print(\" melhore suas entregas\")\n",
        "    elif qualidade_entrega==\"ruim\":\n",
        "      print(\" busque melhorar suas entregas que não foram tão boas nesse bimestre\")\n",
        "    elif qualidade_entrega==\"pessimo\":\n",
        "      print(\" busque melhorar suas entregas, pois não fez entregas satisfatórias nesse bimestre\")\n",
        "  elif conversa==\"pouco\":\n",
        "    print(\"% se dedicou e está no caminho para se desenvolver no próximo bimestre, recomendamos que busque sanar as dúvidas com os professores e evite as poucas conversas paralelas que faz em sala de aula,\"%(nome))\n",
        "    if qualidade_entrega==\"otimo\":\n",
        "      print(\" continue fazendo ótimas entregas como já o faz\")\n",
        "    elif qualidade_entrega==\"bom\":\n",
        "      print(\" continue fazendo boas entregas como já o faz\")\n",
        "    elif qualidade_entrega==\"melhorar\":\n",
        "      print(\" melhore suas entregas\")\n",
        "    elif qualidade_entrega==\"ruim\":\n",
        "      print(\" busque melhorar suas entregas que não foram tão boas nesse bimestre\")\n",
        "    elif qualidade_entrega==\"pessimo\":\n",
        "      print(\" busque melhorar suas entregas, pois não fez entregas satisfatórias nesse bimestre\")\n",
        "  elif conversa==\"muito\":\n",
        "    print(\"% se dedicou e está no caminho para se desenvolver no próximo bimestre, recomendamos que busque sanar as dúvidas com os professores e evite conversas paralelas que faz em sala de aula pois atrapalha seus colegas e seu desenvolvimento,\"%(nome))\n",
        "    if qualidade_entrega==\"otimo\":\n",
        "      print(\" continue fazendo ótimas entregas como já o faz\")\n",
        "    elif qualidade_entrega==\"bom\":\n",
        "      print(\" continue fazendo boas entregas como já o faz\")\n",
        "    elif qualidade_entrega==\"melhorar\":\n",
        "      print(\" melhore suas entregas\")\n",
        "    elif qualidade_entrega==\"ruim\":\n",
        "      print(\" busque melhorar suas entregas que não foram tão boas nesse bimestre\")\n",
        "    elif qualidade_entrega==\"pessimo\":\n",
        "      print(\" busque melhorar suas entregas, pois não fez entregas satisfatórias nesse bimestre\")\n",
        "elif mencao==\"Menção final: ND\":\n",
        "  if conversa==\"não\":\n",
        "    print(\"% não atingiu os indicadores da área nesse bimestre, recomendamos que busque sanar dúvidas em sala de aula e que busque estudar no contraturno das aulas, \"%(nome))\n",
        "    if qualidade_entrega==\"otimo\":\n",
        "      print(\" mesmo fazendo poucas entregas, foram satisfatórias, faça as entregas pois são importante para seu desenvolvimento\")\n",
        "    elif qualidade_entrega==\"bom\":\n",
        "      print(\" mesmo sendo poucas, as entregas foram boas, se dedique mais e incorpore os saberes para o próximo bimestre\")\n",
        "    elif qualidade_entrega==\"melhorar\":\n",
        "      print(\" mesmo sendo poucas notamos que as entregas devem melhorar na qualidade\")\n",
        "    elif qualidade_entrega==\"ruim\":\n",
        "      print(\" as poucas entregas que tiveram não foram satisfátórias, busque melhorar a qualidade e a quantidade das entregas\")\n",
        "    elif qualidade_entrega==\"pessimo\":\n",
        "      print(\" das poucas entregas, todas foram insatisfátórias, busque se engajar em seus processos e se dedique nas entregas\")\n",
        "  elif conversa==\"pouco\":\n",
        "    print(\"% não atingiu os indicadores da área nesse bimestre, recomendamos que busque sanar dúvidas em sala de aula e que busque estudar no contraturno das aulas, as poucas conversas paralelas que faz em sala de aula o atrapalharam\"%(nome))\n",
        "    if qualidade_entrega==\"otimo\":\n",
        "      print(\" mesmo fazendo poucas entregas, foram satisfatórias, faça as entregas pois são importante para seu desenvolvimento\")\n",
        "    elif qualidade_entrega==\"bom\":\n",
        "      print(\" mesmo sendo poucas, as entregas foram boas, se dedique mais e incorpore os saberes para o próximo bimestre\")\n",
        "    elif qualidade_entrega==\"melhorar\":\n",
        "      print(\" mesmo sendo poucas notamos que as entregas devem melhorar na qualidade\")\n",
        "    elif qualidade_entrega==\"ruim\":\n",
        "      print(\" as poucas entregas que tiveram não foram satisfátórias, busque melhorar a qualidade e a quantidade das entregas\")\n",
        "    elif qualidade_entrega==\"pessimo\":\n",
        "      print(\" das poucas entregas, todas foram insatisfátórias, busque se engajar em seus processos e se dedique nas entregas\")\n",
        "  elif conversa==\"muito\":\n",
        "    print(\"% não atingiu os indicadores da área nesse bimestre, recomendamos que busque sanar dúvidas em sala de aula e que busque estudar no contraturno das aulas, conversou muito durante as aulas o que acabou atrapalhando seu desenvolvimento e atrapalhando seus colegas\"%(nome))\n",
        "    if qualidade_entrega==\"otimo\":\n",
        "      print(\" mesmo fazendo poucas entregas, foram satisfatórias, faça as entregas pois são importante para seu desenvolvimento\")\n",
        "    elif qualidade_entrega==\"bom\":\n",
        "      print(\" mesmo sendo poucas, as entregas foram boas, se dedique mais e incorpore os saberes para o próximo bimestre\")\n",
        "    elif qualidade_entrega==\"melhorar\":\n",
        "      print(\" mesmo sendo poucas notamos que as entregas devem melhorar na qualidade\")\n",
        "    elif qualidade_entrega==\"ruim\":\n",
        "      print(\" as poucas entregas que tiveram não foram satisfátórias, busque melhorar a qualidade e a quantidade das entregas\")\n",
        "    elif qualidade_entrega==\"pessimo\":\n",
        "      print(\" das poucas entregas, todas foram insatisfátórias, busque se engajar em seus processos e se dedique nas entregas\")"
      ],
      "metadata": {
        "colab": {
          "base_uri": "https://localhost:8080/"
        },
        "id": "Vt89AQjMM-op",
        "outputId": "2bfb0327-65b9-4bc9-9d4c-d1cf41f68793"
      },
      "execution_count": 18,
      "outputs": [
        {
          "output_type": "stream",
          "name": "stdout",
          "text": [
            "nome lu\n",
            "Menção final: D\n",
            "lu teve uma ótima participação e ótimas entregas nesse bimestre, porém tem conversado bastante durante as aulas, prejudicando seu processo de aprendizado, mesmo assim vem se dedicando bastante para aprimorar os saberes e habilidades propostas pela área\n"
          ]
        }
      ]
    }
  ]
}