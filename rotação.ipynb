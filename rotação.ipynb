{
  "nbformat": 4,
  "nbformat_minor": 0,
  "metadata": {
    "colab": {
      "name": "rotação.ipynb",
      "provenance": [],
      "authorship_tag": "ABX9TyNIt7lLBBTpKnIbWFLCAzcB",
      "include_colab_link": true
    },
    "kernelspec": {
      "name": "python3",
      "display_name": "Python 3"
    },
    "language_info": {
      "name": "python"
    }
  },
  "cells": [
    {
      "cell_type": "markdown",
      "metadata": {
        "id": "view-in-github",
        "colab_type": "text"
      },
      "source": [
        "<a href=\"https://colab.research.google.com/github/Llucascrodrigues/Calculadora/blob/main/rota%C3%A7%C3%A3o.ipynb\" target=\"_parent\"><img src=\"https://colab.research.google.com/assets/colab-badge.svg\" alt=\"Open In Colab\"/></a>"
      ]
    },
    {
      "cell_type": "code",
      "source": [
        "import math"
      ],
      "metadata": {
        "id": "RlwRu4zjMSnf"
      },
      "execution_count": 9,
      "outputs": []
    },
    {
      "cell_type": "markdown",
      "source": [
        "Abaixo temos um versor em três dimensões"
      ],
      "metadata": {
        "id": "JFoSkiHuvj9o"
      }
    },
    {
      "cell_type": "code",
      "execution_count": 10,
      "metadata": {
        "colab": {
          "base_uri": "https://localhost:8080/"
        },
        "id": "1zLVLlMyITZX",
        "outputId": "4159b98c-bf99-4ba2-bfe6-6eddfbf16507"
      },
      "outputs": [
        {
          "output_type": "stream",
          "name": "stdout",
          "text": [
            "[1, 0, 0]\n",
            "[0, 1, 0]\n",
            "[0, 0, 1]\n"
          ]
        }
      ],
      "source": [
        "x=[1,0,0]\n",
        "y=[0,1,0]\n",
        "z=[0,0,1]\n",
        "A=[x,y,z]\n",
        "for i in range(0,len(A)):\n",
        "  print(A[i])\n"
      ]
    },
    {
      "cell_type": "markdown",
      "source": [
        "Insira o input dos valores da velocidade angular e do tempo\n"
      ],
      "metadata": {
        "id": "11JXBnoNIcZp"
      }
    },
    {
      "cell_type": "code",
      "source": [
        "w=float(input('velocidade angular '))\n",
        "t=float(input('tempo '))"
      ],
      "metadata": {
        "colab": {
          "base_uri": "https://localhost:8080/"
        },
        "id": "_0J4aqsoVYLO",
        "outputId": "c6095fc3-dfbc-4f71-c041-21f80ed8c22c"
      },
      "execution_count": 54,
      "outputs": [
        {
          "name": "stdout",
          "output_type": "stream",
          "text": [
            "velocidade angular 15.5\n",
            "tempo 24\n"
          ]
        }
      ]
    },
    {
      "cell_type": "markdown",
      "source": [
        "Temos a rotação abaixo"
      ],
      "metadata": {
        "id": "v28KeYEMv5L1"
      }
    },
    {
      "cell_type": "code",
      "source": [
        "x_f=[math.cos(w*t),-(math.sin(w*t)),0]\n",
        "y_f=[math.sin(w*t),math.cos(w*t),0]\n",
        "z_f=[0,0,1]\n",
        "A_f=[x_f,y_f,z_f]"
      ],
      "metadata": {
        "id": "lha18LSXLO9v"
      },
      "execution_count": 55,
      "outputs": []
    },
    {
      "cell_type": "code",
      "source": [
        "#rotação\n",
        "T=[]\n",
        "for linha in range(0,len(A)):\n",
        "  for coluna in range(0,len(A_f)):\n",
        "      T.append(A[linha][coluna]*A_f[linha][coluna])\n",
        "print(T)"
      ],
      "metadata": {
        "colab": {
          "base_uri": "https://localhost:8080/"
        },
        "id": "cHLeQotgY4lc",
        "outputId": "f25f3fee-4769-419c-8f84-b2d71759d6c8"
      },
      "execution_count": 56,
      "outputs": [
        {
          "output_type": "stream",
          "name": "stdout",
          "text": [
            "[0.27513435722086477, -0.0, 0, 0.0, 0.27513435722086477, 0, 0, 0, 1]\n"
          ]
        }
      ]
    },
    {
      "cell_type": "markdown",
      "source": [
        "Posição do versor no novo referencial\n"
      ],
      "metadata": {
        "id": "1kr559zUwLuI"
      }
    },
    {
      "cell_type": "code",
      "source": [
        "T_x=T[0]\n",
        "T_y=T[4]\n",
        "T_z=T[8]\n",
        "print(T_x)\n",
        "print(T_y)\n",
        "print(T_z)"
      ],
      "metadata": {
        "colab": {
          "base_uri": "https://localhost:8080/"
        },
        "id": "ABkBQsJsr3xn",
        "outputId": "ef2490c1-23b8-46c0-f711-d74d61a39a13"
      },
      "execution_count": 57,
      "outputs": [
        {
          "output_type": "stream",
          "name": "stdout",
          "text": [
            "0.27513435722086477\n",
            "0.27513435722086477\n",
            "1\n"
          ]
        }
      ]
    }
  ]
}